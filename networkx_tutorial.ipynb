{
 "cells": [
  {
   "cell_type": "code",
   "execution_count": null,
   "id": "ff54cd9a-4b76-4061-aae3-fda33375b553",
   "metadata": {},
   "outputs": [],
   "source": [
    "import networkx as nx\n",
    "import dynetworkx as dnx\n",
    "import matplotlib.pyplot as plt"
   ]
  },
  {
   "cell_type": "code",
   "execution_count": null,
   "id": "9ed62985-e8c9-41e3-991b-c8e3bcf48c3b",
   "metadata": {},
   "outputs": [],
   "source": [
    "G = nx.karate_club_graph()\n",
    "print(f\"Network contains: {G.number_of_nodes()} Nodes and {G.number_of_edges()} Edges.\")"
   ]
  },
  {
   "cell_type": "code",
   "execution_count": null,
   "id": "65b742d6",
   "metadata": {},
   "outputs": [],
   "source": [
    "nx.draw(G, with_labels=True, node_size=500, node_color=\"#c8c8c8\", edgecolors=\"#000000\")"
   ]
  },
  {
   "cell_type": "code",
   "execution_count": null,
   "id": "a208cab5",
   "metadata": {},
   "outputs": [],
   "source": [
    "degreeCentrality = nx.degree_centrality(G)\n",
    "degreePairs = sorted(degreeCentrality.items(), key=lambda x: x[1], reverse=True)\n",
    "\n",
    "eigenvectorCentrality = nx.eigenvector_centrality(G)\n",
    "eigenPairs = sorted(eigenvectorCentrality.items(), key=lambda x: x[1], reverse=True)\n",
    "\n",
    "closenessCentrality = nx.closeness_centrality(G)\n",
    "closenessPairs = sorted(closenessCentrality.items(), key=lambda x: x[1], reverse=True)\n",
    "\n",
    "betweennessCentrality = nx.betweenness_centrality(G)\n",
    "betweennessPairs = sorted(betweennessCentrality.items(), key=lambda x: x[1], reverse=True)"
   ]
  },
  {
   "cell_type": "code",
   "execution_count": null,
   "id": "472a0138",
   "metadata": {},
   "outputs": [],
   "source": [
    "print(\"{:15s}{:15s}{:15s}{:15s}{:15s}{:15s}{:15s}{:15s}\".format(\"Node\", \"Degree\", \"Node\", \"Eigenvector\", \"Node\", \"Closeness\", \"Node\", \"Betweenness\"))\n",
    "for i in range(G.number_of_nodes()):\n",
    "    print(\"{:<15.0f}{:0.3f}\\\n",
    "          {:<15.0f}{:0.3f}\\\n",
    "          {:<15.0f}{:0.3f}\\\n",
    "          {:<15.0f}{:0.3f}\".format(*degreePairs[i], *eigenPairs[i], *closenessPairs[i], *betweennessPairs[i]))"
   ]
  },
  {
   "cell_type": "code",
   "execution_count": null,
   "id": "21ed0147",
   "metadata": {},
   "outputs": [],
   "source": [
    "rangeDegree = (degreePairs[-1][1], degreePairs[0][1])\n",
    "rangeEigen = (eigenPairs[-1][1], eigenPairs[0][1])\n",
    "rangeCloseness = (closenessPairs[-1][1], closenessPairs[0][1])\n",
    "rangeBetweenness = (betweennessPairs[-1][1], betweennessPairs[0][1])\n",
    "\n",
    "degreeColor = [0]*G.number_of_nodes()\n",
    "eigenColor = [0]*G.number_of_nodes()\n",
    "closenessColor = [0]*G.number_of_nodes()\n",
    "betweennessColor = [0]*G.number_of_nodes()\n",
    "\n",
    "for node in G.nodes():\n",
    "    degreeColor[node] = 0.75*(degreeCentrality[node] - rangeDegree[0]) / (rangeDegree[1] - rangeDegree[0])\n",
    "    eigenColor[node] = 0.75*(eigenvectorCentrality[node] - rangeEigen[0]) / (rangeEigen[1] - rangeEigen[0])\n",
    "    closenessColor[node] = 0.75*(closenessCentrality[node] - rangeCloseness[0]) / (rangeCloseness[1] - rangeCloseness[0])\n",
    "    betweennessColor[node] = 0.75*(betweennessCentrality[node] - rangeBetweenness[0]) / (rangeBetweenness[1] - rangeBetweenness[0])\n",
    "    \n",
    "colors = [[], [], [], []]\n",
    "colors[0] = [(1, 1-x, 1-x) for x in degreeColor]\n",
    "colors[1] = [(1-x, 1, 1-x) for x in eigenColor]\n",
    "colors[2] = [(1, 1, 1-x) for x in closenessColor]\n",
    "colors[3] = [(1-x, 1-x, 1) for x in betweennessColor]\n",
    "    "
   ]
  },
  {
   "cell_type": "code",
   "execution_count": null,
   "id": "2cff7a1e",
   "metadata": {},
   "outputs": [],
   "source": [
    "fig, axes = plt.subplots(4, 1, figsize=(20, 30))\n",
    "\n",
    "pos = nx.spring_layout(G)\n",
    "titles = [\"Degree Centrality\", \"Eigenvector Centrality\", \"Closeness Centrality\",\"Betweenness Centrality\"]\n",
    "for i in range(4):\n",
    "    nx.draw_networkx(G, pos=pos, ax=axes[i], font_size=16, node_size=900, node_color=colors[i], edgecolors=\"#000000\")\n",
    "    axes[i].set_title(titles[i], fontsize=24)\n",
    "    \n",
    "fig.tight_layout()\n",
    "plt.show()"
   ]
  },
  {
   "cell_type": "code",
   "execution_count": null,
   "id": "354cb589",
   "metadata": {},
   "outputs": [],
   "source": []
  }
 ],
 "metadata": {
  "kernelspec": {
   "display_name": "Python 3",
   "language": "python",
   "name": "python3"
  },
  "language_info": {
   "codemirror_mode": {
    "name": "ipython",
    "version": 3
   },
   "file_extension": ".py",
   "mimetype": "text/x-python",
   "name": "python",
   "nbconvert_exporter": "python",
   "pygments_lexer": "ipython3",
   "version": "3.9.6"
  }
 },
 "nbformat": 4,
 "nbformat_minor": 5
}
