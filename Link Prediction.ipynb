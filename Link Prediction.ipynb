{
 "cells": [
  {
   "cell_type": "code",
   "execution_count": null,
   "metadata": {
    "ExecuteTime": {
     "end_time": "2021-07-06T18:01:57.009639Z",
     "start_time": "2021-07-06T18:01:56.003963Z"
    }
   },
   "outputs": [],
   "source": [
    "import matplotlib.pyplot as plt\n",
    "import networkx as nx\n",
    "import pandas as pd\n",
    "import random"
   ]
  },
  {
   "cell_type": "code",
   "execution_count": null,
   "metadata": {
    "ExecuteTime": {
     "end_time": "2021-07-06T18:02:08.051021Z",
     "start_time": "2021-07-06T18:02:07.682516Z"
    }
   },
   "outputs": [],
   "source": [
    "G = nx.karate_club_graph()\n",
    "pos = nx.spring_layout(G)\n",
    "\n",
    "# plot the graph\n",
    "nx.draw(G, pos=pos, with_labels=True)\n",
    "plt.show()"
   ]
  },
  {
   "cell_type": "markdown",
   "metadata": {},
   "source": [
    "# Data preparation"
   ]
  },
  {
   "cell_type": "code",
   "execution_count": null,
   "metadata": {
    "ExecuteTime": {
     "end_time": "2021-07-06T18:02:11.792364Z",
     "start_time": "2021-07-06T18:02:11.781165Z"
    }
   },
   "outputs": [],
   "source": [
    "len(G.edges())"
   ]
  },
  {
   "cell_type": "code",
   "execution_count": null,
   "metadata": {
    "ExecuteTime": {
     "end_time": "2021-07-06T18:02:12.372458Z",
     "start_time": "2021-07-06T18:02:12.359674Z"
    },
    "code_folding": [
     2
    ]
   },
   "outputs": [],
   "source": [
    "removed_edges = random.sample(list(G.edges()), 20)\n",
    "\n",
    "for edge in removed_edges:\n",
    "    G.remove_edge(edge[0], edge[1])\n",
    "    \n",
    "removed_edges"
   ]
  },
  {
   "cell_type": "code",
   "execution_count": null,
   "metadata": {
    "ExecuteTime": {
     "end_time": "2021-07-06T18:02:13.718697Z",
     "start_time": "2021-07-06T18:02:13.488118Z"
    }
   },
   "outputs": [],
   "source": [
    "nx.draw(G, pos=pos, with_labels=True)\n",
    "plt.show()"
   ]
  },
  {
   "cell_type": "markdown",
   "metadata": {},
   "source": [
    "# Algorithms"
   ]
  },
  {
   "cell_type": "markdown",
   "metadata": {},
   "source": [
    "## Jaccard coefficient"
   ]
  },
  {
   "cell_type": "code",
   "execution_count": null,
   "metadata": {
    "ExecuteTime": {
     "end_time": "2021-07-06T18:01:13.233787Z",
     "start_time": "2021-07-06T18:01:12.489705Z"
    }
   },
   "outputs": [],
   "source": [
    "preds = nx.jaccard_coefficient(G)\n",
    "\n",
    "# convert iterator to series\n",
    "edges = list()\n",
    "scores = list()\n",
    "for u, v, p in preds:\n",
    "    edges.append((u, v))\n",
    "    scores.append(p)\n",
    "    jc = pd.Series(scores, edges)\n",
    "    \n",
    "jc.sort_values(ascending=False)"
   ]
  },
  {
   "cell_type": "markdown",
   "metadata": {},
   "source": [
    "## Adamic-Adar "
   ]
  },
  {
   "cell_type": "code",
   "execution_count": null,
   "metadata": {
    "ExecuteTime": {
     "end_time": "2021-07-06T18:01:16.159678Z",
     "start_time": "2021-07-06T18:01:15.602834Z"
    }
   },
   "outputs": [],
   "source": [
    "preds = nx.adamic_adar_index(G)\n",
    "\n",
    "# convert iterator to series\n",
    "edges = list()\n",
    "scores = list()\n",
    "for u, v, p in preds:\n",
    "    edges.append((u, v))\n",
    "    scores.append(p)\n",
    "    aa = pd.Series(scores, edges)\n",
    "\n",
    "aa.sort_values(ascending=False)"
   ]
  },
  {
   "cell_type": "markdown",
   "metadata": {},
   "source": [
    "## Preferential attachment"
   ]
  },
  {
   "cell_type": "code",
   "execution_count": null,
   "metadata": {
    "ExecuteTime": {
     "end_time": "2021-07-06T18:01:19.690751Z",
     "start_time": "2021-07-06T18:01:19.064796Z"
    }
   },
   "outputs": [],
   "source": [
    "preds = nx.preferential_attachment(G)\n",
    "\n",
    "# convert iterator to series\n",
    "edges = list()\n",
    "scores = list()\n",
    "for u, v, p in preds:\n",
    "    edges.append((u, v))\n",
    "    scores.append(p)\n",
    "    pa = pd.Series(scores, edges)\n",
    "\n",
    "pa.sort_values(ascending=False)    "
   ]
  },
  {
   "cell_type": "markdown",
   "metadata": {},
   "source": [
    "# Evaluation"
   ]
  },
  {
   "cell_type": "code",
   "execution_count": null,
   "metadata": {
    "ExecuteTime": {
     "end_time": "2021-07-06T18:01:23.382605Z",
     "start_time": "2021-07-06T18:01:23.372635Z"
    }
   },
   "outputs": [],
   "source": [
    "# Jaccard coefficient\n",
    "count = 0\n",
    "\n",
    "for edge in list(jc.sort_values(ascending=False)[:10].index):\n",
    "    if edge in removed_edges:\n",
    "        count += 1\n",
    "\n",
    "print('Accuracy: {}'.format(count/len(removed_edges)))"
   ]
  },
  {
   "cell_type": "code",
   "execution_count": null,
   "metadata": {
    "ExecuteTime": {
     "end_time": "2021-07-06T18:01:25.242056Z",
     "start_time": "2021-07-06T18:01:25.229462Z"
    }
   },
   "outputs": [],
   "source": [
    "# Adamic-Adar\n",
    "count = 0\n",
    "\n",
    "for edge in list(aa.sort_values(ascending=False)[:10].index):\n",
    "    if edge in removed_edges:\n",
    "        count += 1\n",
    "\n",
    "print('Accuracy: {}'.format(count/len(removed_edges)))"
   ]
  },
  {
   "cell_type": "code",
   "execution_count": null,
   "metadata": {
    "ExecuteTime": {
     "end_time": "2021-07-06T18:01:27.003677Z",
     "start_time": "2021-07-06T18:01:26.996537Z"
    }
   },
   "outputs": [],
   "source": [
    "# Preferential attachment\n",
    "count = 0\n",
    "\n",
    "for edge in list(pa.sort_values(ascending=False)[:10].index):\n",
    "    if edge in removed_edges:\n",
    "        count += 1\n",
    "\n",
    "print('Accuracy: {}'.format(count/len(removed_edges)))"
   ]
  }
 ],
 "metadata": {
  "kernelspec": {
   "display_name": "Python 3 (ipykernel)",
   "language": "python",
   "name": "python3"
  },
  "language_info": {
   "codemirror_mode": {
    "name": "ipython",
    "version": 3
   },
   "file_extension": ".py",
   "mimetype": "text/x-python",
   "name": "python",
   "nbconvert_exporter": "python",
   "pygments_lexer": "ipython3",
   "version": "3.9.5"
  },
  "toc": {
   "base_numbering": 1,
   "nav_menu": {},
   "number_sections": true,
   "sideBar": true,
   "skip_h1_title": false,
   "title_cell": "Table of Contents",
   "title_sidebar": "Contents",
   "toc_cell": false,
   "toc_position": {},
   "toc_section_display": true,
   "toc_window_display": false
  }
 },
 "nbformat": 4,
 "nbformat_minor": 4
}
